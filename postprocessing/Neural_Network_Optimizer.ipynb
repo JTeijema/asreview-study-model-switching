{
  "nbformat": 4,
  "nbformat_minor": 0,
  "metadata": {
    "colab": {
      "name": "Untitled1.ipynb",
      "provenance": [],
      "collapsed_sections": []
    },
    "kernelspec": {
      "name": "python3",
      "display_name": "Python 3.9.5 64-bit"
    },
    "language_info": {
      "name": "python",
      "version": "3.9.5"
    },
    "accelerator": "TPU",
    "interpreter": {
      "hash": "ab5013c0544224344857d6199cec860f4bf2eb18449276cf2b80fc8adb296486"
    }
  },
  "cells": [
    {
      "cell_type": "markdown",
      "metadata": {
        "id": "ysihwfnWK8jy"
      },
      "source": [
        "# Load"
      ]
    },
    {
      "cell_type": "code",
      "metadata": {
        "id": "DKRnToSq_mjN"
      },
      "source": [
        "import numpy as np\n",
        "import scipy\n",
        "from tensorflow.keras import Sequential\n",
        "from tensorflow.keras.layers import *\n",
        "from tensorflow.keras import activations\n",
        "from tensorflow.keras.backend import clear_session\n",
        "from tensorflow.keras import optimizers\n",
        "from tensorflow.keras import callbacks\n",
        "\n",
        "from math import ceil\n",
        "import matplotlib.pyplot as plt\n",
        "\n",
        "from sklearn.utils.class_weight import compute_class_weight\n",
        "from sklearn.model_selection import GridSearchCV\n",
        "from keras.wrappers.scikit_learn import KerasClassifier"
      ],
      "execution_count": 1,
      "outputs": []
    },
    {
      "cell_type": "code",
      "metadata": {
        "id": "YYZQNRgx_nTq"
      },
      "source": [
        "data = np.load(\"../output/data-10.npz\", allow_pickle=True)\n",
        "sorted(data.files)\n",
        "X = data['X']\n",
        "y = data['y']\n",
        "data.close()"
      ],
      "execution_count": 2,
      "outputs": []
    },
    {
      "cell_type": "code",
      "execution_count": null,
      "metadata": {},
      "outputs": [],
      "source": [
        "#This code is used on tfidf data!\n",
        "#X = X[()].toarray()\n",
        "#input_dim = X.shape[1]"
      ]
    },
    {
      "cell_type": "code",
      "execution_count": 3,
      "metadata": {},
      "outputs": [],
      "source": [
        "#should be (None, 40, 1)\n",
        "X_train = X.reshape((X.shape[0],X.shape[1],1))"
      ]
    },
    {
      "cell_type": "code",
      "execution_count": 4,
      "metadata": {},
      "outputs": [
        {
          "output_type": "stream",
          "name": "stdout",
          "text": [
            "(52, 40) (52, 40, 1)\n"
          ]
        }
      ],
      "source": [
        "print(X.shape,\n",
        "X_train.shape)"
      ]
    },
    {
      "cell_type": "markdown",
      "metadata": {
        "id": "KEPBA86sK61M"
      },
      "source": [
        "# Test Model"
      ]
    },
    {
      "cell_type": "code",
      "execution_count": 17,
      "metadata": {},
      "outputs": [
        {
          "output_type": "stream",
          "name": "stdout",
          "text": [
            "Model: \"sequential\"\n_________________________________________________________________\nLayer (type)                 Output Shape              Param #   \n=================================================================\nseparable_conv1d (SeparableC (None, 38, 128)           259       \n_________________________________________________________________\nmax_pooling1d (MaxPooling1D) (None, 19, 128)           0         \n_________________________________________________________________\nlstm (LSTM)                  (None, 19, 40)            27040     \n_________________________________________________________________\ndropout (Dropout)            (None, 19, 40)            0         \n_________________________________________________________________\nactivation (Activation)      (None, 19, 40)            0         \n_________________________________________________________________\nlstm_1 (LSTM)                (None, 19, 256)           304128    \n_________________________________________________________________\nactivation_1 (Activation)    (None, 19, 256)           0         \n_________________________________________________________________\nlstm_2 (LSTM)                (None, 19, 128)           197120    \n_________________________________________________________________\nactivation_2 (Activation)    (None, 19, 128)           0         \n_________________________________________________________________\nlstm_3 (LSTM)                (None, 19, 64)            49408     \n_________________________________________________________________\nactivation_3 (Activation)    (None, 19, 64)            0         \n_________________________________________________________________\nlstm_4 (LSTM)                (None, 19, 32)            12416     \n_________________________________________________________________\nactivation_4 (Activation)    (None, 19, 32)            0         \n_________________________________________________________________\nlstm_5 (LSTM)                (None, 16)                3136      \n_________________________________________________________________\nactivation_5 (Activation)    (None, 16)                0         \n_________________________________________________________________\ndense (Dense)                (None, 1)                 17        \n=================================================================\nTotal params: 593,524\nTrainable params: 593,524\nNon-trainable params: 0\n_________________________________________________________________\n"
          ]
        }
      ],
      "source": [
        "def create_model(lr, _size):\n",
        "    clear_session()\n",
        "\n",
        "    model = Sequential()\n",
        "    model.add(SeparableConv1D(input_shape = (_size, 1), filters = 128, kernel_size = 5, padding = 'valid'))\n",
        "    model.add(MaxPooling1D(2))\n",
        "    model.add(LSTM(_size,return_sequences = True, implementation=2))\n",
        "    model.add(Dropout(0.7))\n",
        "    model.add(Activation('relu'))\n",
        "    model.add(LSTM(256,return_sequences = True))\n",
        "    model.add(Activation('relu'))\n",
        "    model.add(LSTM(128,return_sequences = True))\n",
        "    model.add(Activation('relu'))\n",
        "    model.add(LSTM(64,return_sequences = True))\n",
        "    model.add(Activation('relu'))\n",
        "    model.add(LSTM(32,return_sequences = True))\n",
        "    model.add(Activation('relu'))\n",
        "    model.add(LSTM(16))\n",
        "    model.add(Activation('relu'))\n",
        "    model.add(Dense(1, activation='sigmoid'))\n",
        "\n",
        "    model.compile(\n",
        "        loss='binary_crossentropy',\n",
        "        optimizer=optimizers.RMSprop(learning_rate=lr),\n",
        "        metrics=['acc'])\n",
        "\n",
        "    return model\n",
        "\n",
        "model = create_model(lr=0.001, _size=X.shape[1])\n",
        "model.summary()"
      ]
    },
    {
      "cell_type": "code",
      "metadata": {
        "id": "1O_Hj0fQ_rt-",
        "colab": {
          "base_uri": "https://localhost:8080/",
          "height": 933
        },
        "outputId": "799b7b70-8d83-4660-9c2a-17326432ae32"
      },
      "source": [
        "def create_model(lr):\n",
        "    clear_session()\n",
        "\n",
        "    model = Sequential()\n",
        "\n",
        "    model.add(SeparableConv1D(input_shape = (40, 1), filters = 256, kernel_size = 3, padding = 'valid'))\n",
        "    model.add(Activation(activations.relu))\n",
        "    model.add(SeparableConv1D(filters = 256, kernel_size = 3, padding = 'valid'))\n",
        "    model.add(Activation(activations.relu))\n",
        "    model.add(MaxPooling1D(pool_size = 2, padding = 'valid'))\n",
        "\n",
        "    model.add(SeparableConv1D(filters = 256, kernel_size = 3, padding = 'valid'))\n",
        "    model.add(Activation(activations.relu))\n",
        "    model.add(SeparableConv1D(filters = 256, kernel_size = 3, padding = 'valid'))\n",
        "    model.add(Activation(activations.relu))\n",
        "    model.add(MaxPooling1D(pool_size = 2, padding = 'valid'))\n",
        "    model.add(Dropout(rate=0.5))\n",
        "    \n",
        "    model.add(Flatten())\n",
        "    model.add(Dense(128))\n",
        "    model.add(Activation(activations.relu))\n",
        "    model.add(Dropout(rate=0.5))\n",
        "    model.add(Dense(1, activation='sigmoid'))\n",
        "\n",
        "    # Compile model\n",
        "    model.compile(\n",
        "        loss='binary_crossentropy',\n",
        "        optimizer=optimizers.RMSprop(learning_rate=lr),\n",
        "        metrics=['acc'])\n",
        "\n",
        "    return model\n",
        "\n",
        "model = create_model(lr=0.001)\n",
        "model.summary()"
      ],
      "execution_count": 4,
      "outputs": [
        {
          "output_type": "stream",
          "name": "stdout",
          "text": [
            "Model: \"sequential\"\n_________________________________________________________________\nLayer (type)                 Output Shape              Param #   \n=================================================================\nseparable_conv1d (SeparableC (None, 38, 256)           515       \n_________________________________________________________________\nactivation (Activation)      (None, 38, 256)           0         \n_________________________________________________________________\nseparable_conv1d_1 (Separabl (None, 36, 256)           66560     \n_________________________________________________________________\nactivation_1 (Activation)    (None, 36, 256)           0         \n_________________________________________________________________\nmax_pooling1d (MaxPooling1D) (None, 18, 256)           0         \n_________________________________________________________________\nseparable_conv1d_2 (Separabl (None, 16, 256)           66560     \n_________________________________________________________________\nactivation_2 (Activation)    (None, 16, 256)           0         \n_________________________________________________________________\nseparable_conv1d_3 (Separabl (None, 14, 256)           66560     \n_________________________________________________________________\nactivation_3 (Activation)    (None, 14, 256)           0         \n_________________________________________________________________\nmax_pooling1d_1 (MaxPooling1 (None, 7, 256)            0         \n_________________________________________________________________\ndropout (Dropout)            (None, 7, 256)            0         \n_________________________________________________________________\nflatten (Flatten)            (None, 1792)              0         \n_________________________________________________________________\ndense (Dense)                (None, 128)               229504    \n_________________________________________________________________\nactivation_4 (Activation)    (None, 128)               0         \n_________________________________________________________________\ndropout_1 (Dropout)          (None, 128)               0         \n_________________________________________________________________\ndense_1 (Dense)              (None, 1)                 129       \n=================================================================\nTotal params: 429,828\nTrainable params: 429,828\nNon-trainable params: 0\n_________________________________________________________________\n"
          ]
        }
      ]
    },
    {
      "cell_type": "code",
      "execution_count": 25,
      "metadata": {},
      "outputs": [
        {
          "output_type": "stream",
          "name": "stdout",
          "text": [
            "Epoch 1/50\n",
            "18/18 [==============================] - 13s 44ms/step - loss: 0.6918 - acc: 0.5577\n",
            "Epoch 2/50\n",
            "18/18 [==============================] - 1s 46ms/step - loss: 0.6660 - acc: 0.6538\n",
            "Epoch 3/50\n",
            "18/18 [==============================] - 1s 46ms/step - loss: 0.6520 - acc: 0.6538\n",
            "Epoch 4/50\n",
            "18/18 [==============================] - 1s 45ms/step - loss: 0.6510 - acc: 0.6538\n",
            "Epoch 5/50\n",
            "18/18 [==============================] - 1s 46ms/step - loss: 0.6106 - acc: 0.6923\n",
            "Epoch 6/50\n",
            "18/18 [==============================] - 1s 46ms/step - loss: 0.5506 - acc: 0.8077\n",
            "Epoch 7/50\n",
            "18/18 [==============================] - 1s 44ms/step - loss: 0.5541 - acc: 0.7692\n",
            "Epoch 8/50\n",
            "18/18 [==============================] - 1s 48ms/step - loss: 0.5375 - acc: 0.7885\n",
            "Epoch 9/50\n",
            "18/18 [==============================] - 1s 45ms/step - loss: 0.5043 - acc: 0.8077\n",
            "Epoch 10/50\n",
            "18/18 [==============================] - 1s 45ms/step - loss: 0.4948 - acc: 0.8077\n",
            "Epoch 11/50\n",
            "18/18 [==============================] - 1s 45ms/step - loss: 0.4934 - acc: 0.8077\n",
            "Epoch 12/50\n",
            "18/18 [==============================] - 1s 44ms/step - loss: 0.5056 - acc: 0.7885\n",
            "Epoch 13/50\n",
            "18/18 [==============================] - 1s 45ms/step - loss: 0.4889 - acc: 0.8077\n",
            "Epoch 14/50\n",
            "18/18 [==============================] - 1s 44ms/step - loss: 0.5758 - acc: 0.7500\n",
            "Epoch 15/50\n",
            "18/18 [==============================] - 1s 44ms/step - loss: 0.5113 - acc: 0.7885\n",
            "Epoch 16/50\n",
            "18/18 [==============================] - 1s 44ms/step - loss: 0.5579 - acc: 0.7500\n",
            "Epoch 17/50\n",
            "18/18 [==============================] - 1s 46ms/step - loss: 0.5281 - acc: 0.7692\n",
            "Epoch 18/50\n",
            "18/18 [==============================] - 1s 52ms/step - loss: 0.5317 - acc: 0.7692\n",
            "Epoch 19/50\n",
            "18/18 [==============================] - 1s 51ms/step - loss: 0.5070 - acc: 0.7885\n",
            "Epoch 20/50\n",
            "18/18 [==============================] - 1s 51ms/step - loss: 0.5031 - acc: 0.7885\n",
            "Epoch 21/50\n",
            "18/18 [==============================] - 1s 49ms/step - loss: 0.5020 - acc: 0.7885\n",
            "Epoch 22/50\n",
            "18/18 [==============================] - 1s 46ms/step - loss: 0.5008 - acc: 0.7885\n",
            "Epoch 23/50\n",
            "18/18 [==============================] - 1s 46ms/step - loss: 0.4726 - acc: 0.8077\n",
            "Epoch 24/50\n",
            "18/18 [==============================] - 1s 47ms/step - loss: 0.5162 - acc: 0.7885\n",
            "Epoch 25/50\n",
            "18/18 [==============================] - 1s 47ms/step - loss: 0.4734 - acc: 0.8077\n",
            "Epoch 26/50\n",
            "18/18 [==============================] - 1s 47ms/step - loss: 0.5146 - acc: 0.7885\n",
            "Epoch 27/50\n",
            "18/18 [==============================] - 1s 46ms/step - loss: 0.4728 - acc: 0.8077\n",
            "Epoch 28/50\n",
            "18/18 [==============================] - 1s 47ms/step - loss: 0.4997 - acc: 0.7885\n",
            "Epoch 29/50\n",
            "18/18 [==============================] - 1s 46ms/step - loss: 0.4731 - acc: 0.8077\n",
            "Epoch 30/50\n",
            "18/18 [==============================] - 1s 47ms/step - loss: 0.4687 - acc: 0.8077\n",
            "Epoch 31/50\n",
            "18/18 [==============================] - 1s 49ms/step - loss: 0.4673 - acc: 0.8077\n",
            "Epoch 32/50\n",
            "18/18 [==============================] - 1s 47ms/step - loss: 0.5678 - acc: 0.7500\n",
            "Epoch 33/50\n",
            "18/18 [==============================] - 1s 47ms/step - loss: 0.5201 - acc: 0.7692\n",
            "Epoch 34/50\n",
            "18/18 [==============================] - 1s 47ms/step - loss: 0.4684 - acc: 0.8077\n",
            "Epoch 35/50\n",
            "18/18 [==============================] - 1s 48ms/step - loss: 0.4941 - acc: 0.7885\n",
            "Epoch 36/50\n",
            "18/18 [==============================] - 1s 47ms/step - loss: 0.4664 - acc: 0.8077\n",
            "Epoch 37/50\n",
            "18/18 [==============================] - 1s 54ms/step - loss: 0.4661 - acc: 0.8077\n",
            "Epoch 38/50\n",
            "18/18 [==============================] - 1s 47ms/step - loss: 0.4932 - acc: 0.7885\n",
            "Epoch 39/50\n",
            "18/18 [==============================] - 1s 46ms/step - loss: 0.4645 - acc: 0.8077\n",
            "Epoch 40/50\n",
            "18/18 [==============================] - 1s 46ms/step - loss: 0.4650 - acc: 0.8077\n",
            "Epoch 41/50\n",
            "18/18 [==============================] - 1s 45ms/step - loss: 0.5429 - acc: 0.7692\n",
            "Epoch 42/50\n",
            "18/18 [==============================] - 1s 46ms/step - loss: 0.4629 - acc: 0.8077\n",
            "Epoch 43/50\n",
            "18/18 [==============================] - 1s 48ms/step - loss: 0.4911 - acc: 0.7885\n",
            "Epoch 44/50\n",
            "18/18 [==============================] - 1s 49ms/step - loss: 0.4372 - acc: 0.8269\n",
            "Epoch 45/50\n",
            "18/18 [==============================] - 1s 51ms/step - loss: 0.4641 - acc: 0.8077\n",
            "Epoch 46/50\n",
            "18/18 [==============================] - 1s 50ms/step - loss: 0.4631 - acc: 0.8077\n",
            "Epoch 47/50\n",
            "18/18 [==============================] - 1s 47ms/step - loss: 0.6329 - acc: 0.7500\n",
            "Epoch 48/50\n",
            "18/18 [==============================] - 1s 47ms/step - loss: 0.4630 - acc: 0.8077\n",
            "Epoch 49/50\n",
            "18/18 [==============================] - 1s 48ms/step - loss: 0.5758 - acc: 0.7692\n",
            "Epoch 50/50\n",
            "18/18 [==============================] - 1s 48ms/step - loss: 0.4626 - acc: 0.8077\n"
          ]
        }
      ],
      "source": [
        "callback = callbacks.EarlyStopping(min_delta = 0.02, monitor='acc', patience=20, restore_best_weights=True)\n",
        "\n",
        "model = create_model(lr=0.001, _size=X.shape[1])\n",
        "\n",
        "history = model.fit(X_train,\n",
        "                   y,\n",
        "                   #validation_split=0.2,\n",
        "                   shuffle=True,\n",
        "                   epochs=50,\n",
        "                   batch_size=ceil(X.shape[0]/20),\n",
        "                   #callbacks=[callback],\n",
        "                   #class_weight={0: compute_class_weight('balanced', np.unique(y), y)[0], 1: compute_class_weight('balanced', np.unique(y), y)[1]}#{0: 1.0, 1: 30.0}\n",
        "                    )"
      ]
    },
    {
      "cell_type": "markdown",
      "metadata": {
        "id": "NAGeQat0siDP"
      },
      "source": [
        "# Plot stuff"
      ]
    },
    {
      "cell_type": "code",
      "metadata": {
        "id": "MnmvJUzwH1zD",
        "colab": {
          "base_uri": "https://localhost:8080/",
          "height": 295
        },
        "outputId": "dc8cf0f9-be12-466c-9655-8376f3686418"
      },
      "source": [
        "# summarize history for accuracy\n",
        "plt.plot(history.history['acc'])\n",
        "plt.plot(history.history['val_acc'])\n",
        "plt.title('model accuracy')\n",
        "plt.ylabel('accuracy')\n",
        "plt.xlabel('epoch')\n",
        "plt.legend(['train', 'test'], loc='upper left')\n",
        "plt.show()"
      ],
      "execution_count": null,
      "outputs": []
    },
    {
      "cell_type": "markdown",
      "metadata": {
        "id": "-EhoZniHJZG2"
      },
      "source": [
        "# Grid Optimizer"
      ]
    },
    {
      "cell_type": "code",
      "metadata": {
        "id": "OtRza83UJMZQ",
        "colab": {
          "base_uri": "https://localhost:8080/",
          "height": 246
        },
        "outputId": "d95bc98b-1069-4bb8-fd06-2388341078c5"
      },
      "source": [
        "#wrapping model\n",
        "gridmodel = KerasClassifier(build_fn=create_model, input_dim=input_dim, class_weight={0: 1.0, 1: 30.0})\n",
        "\n",
        "_batch_size      = [20]\n",
        "_optimizer       = ['RMSprop']\n",
        "_dense_width     = [64, 128]\n",
        "_dropout_value   = [0.5]\n",
        "_n_hidden_layers = [2, 3]\n",
        "\n",
        "param_grid = dict(\n",
        "    batch_size      =_batch_size, \n",
        "    optimizer       =_optimizer, \n",
        "    dense_width     =_dense_width,\n",
        "    dropout_value   =_dropout_value,\n",
        "    n_hidden_layers =_n_hidden_layers\n",
        "    )\n",
        "\n",
        "grid = GridSearchCV(estimator=gridmodel, param_grid=param_grid, scoring='accuracy', n_jobs=16, cv=6, verbose=2)"
      ],
      "execution_count": null,
      "outputs": []
    },
    {
      "cell_type": "code",
      "metadata": {
        "colab": {
          "base_uri": "https://localhost:8080/",
          "height": 729
        },
        "id": "zyUMKlQgJPHW",
        "outputId": "89c41d62-fa21-4f98-fc8d-b16c5a145030"
      },
      "source": [
        "callback = callbacks.EarlyStopping(monitor='val_acc', patience=5)\n",
        "\n",
        "grid_result = grid.fit(X, \n",
        "                       y, \n",
        "                       epochs = 100,\n",
        "                       validation_split=0.2,\n",
        "                       callbacks=[callback])"
      ],
      "execution_count": null,
      "outputs": []
    },
    {
      "cell_type": "code",
      "metadata": {
        "colab": {
          "base_uri": "https://localhost:8080/"
        },
        "id": "AUUQ1TgiJQoQ",
        "outputId": "705815c3-9f58-4780-8f58-9cbc921a441a"
      },
      "source": [
        "print(\"Best: %f using %s\" % (grid_result.best_score_, grid_result.best_params_))\n",
        "means = grid_result.cv_results_['mean_test_score']\n",
        "stds = grid_result.cv_results_['std_test_score']\n",
        "params = grid_result.cv_results_['params']\n",
        "for mean, stdev, param in zip(means, stds, params):\n",
        "    print(\"%f (%f) with: %r\" % (mean, stdev, param))"
      ],
      "execution_count": null,
      "outputs": []
    }
  ]
}
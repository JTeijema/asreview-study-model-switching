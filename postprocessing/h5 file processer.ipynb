{
 "metadata": {
  "language_info": {
   "codemirror_mode": {
    "name": "ipython",
    "version": 3
   },
   "file_extension": ".py",
   "mimetype": "text/x-python",
   "name": "python",
   "nbconvert_exporter": "python",
   "pygments_lexer": "ipython3",
   "version": "3.9.5"
  },
  "orig_nbformat": 4,
  "kernelspec": {
   "name": "python3",
   "display_name": "Python 3.9.5 64-bit"
  },
  "interpreter": {
   "hash": "ab5013c0544224344857d6199cec860f4bf2eb18449276cf2b80fc8adb296486"
  }
 },
 "nbformat": 4,
 "nbformat_minor": 2,
 "cells": [
  {
   "cell_type": "code",
   "execution_count": 4,
   "metadata": {},
   "outputs": [],
   "source": [
    "import h5py\n",
    "import nexusformat.nexus as nx\n",
    "import numpy as np"
   ]
  },
  {
   "cell_type": "code",
   "execution_count": 5,
   "metadata": {},
   "outputs": [],
   "source": [
    "f = h5py.File('../output/NB_extract_classified_papers.h5', 'r')"
   ]
  },
  {
   "cell_type": "code",
   "execution_count": 6,
   "metadata": {},
   "outputs": [
    {
     "output_type": "stream",
     "name": "stdout",
     "text": [
      "root:NXroot\n  @current_queries = '{\"34710\": \"max\", \"32769\": \"max\", \"33775\": \"max...'\n  @end_time = '2021-07-07 11:18:48.687053'\n  @settings = '{\"mode\": \"simulate\", \"model\": \"nb\", \"query_str...'\n  @start_time = '2021-07-07 11:18:16.817067'\n  @version = '1.1'\n  data_properties:NXgroup\n    b4012c264ff29cd97c242d9c4faf29d322e8f262:NXgroup\n      @matrix_type = 'csr_matrix'\n      data = float64(4594178)\n      indices = int32(4594178)\n      indptr = int32(50937)\n      record_table = int64(50936)\n      shape = [50936 81234]\n  labels = int32(50936)\n  results:NXgroup\n    0:NXgroup\n      @creation_time = '2021-07-07 11:18:16.864975'\n      new_labels:NXgroup\n        idx = [16392  4277]\n        labels = [1 0]\n        methods = ['initial', 'initial']\n    1:NXgroup\n      @creation_time = '2021-07-07 11:18:47.314032'\n      new_labels:NXgroup\n        idx = int32(20)\n        labels = int32(20)\n        methods = ['max', 'max', 'max', 'max', 'max', 'max', 'max', 'max',...\n      pool_idx = int32(50934)\n      proba = float64(50936)\n      train_idx = [16392  4277]\n    2:NXgroup\n      @creation_time = '2021-07-07 11:18:47.383949'\n      new_labels:NXgroup\n        idx = int32(20)\n        labels = int32(20)\n        methods = ['max', 'max', 'max', 'max', 'max', 'max', 'max', 'max',...\n      pool_idx = int32(50914)\n      proba = float64(50936)\n      train_idx = int32(22)\n    3:NXgroup\n      @creation_time = '2021-07-07 11:18:47.457941'\n      new_labels:NXgroup\n        idx = int32(20)\n        labels = int32(20)\n        methods = ['max', 'max', 'max', 'max', 'max', 'max', 'max', 'max',...\n      pool_idx = int32(50894)\n      proba = float64(50936)\n      train_idx = int32(42)\n    4:NXgroup\n      @creation_time = '2021-07-07 11:18:47.578646'\n      new_labels:NXgroup\n        idx = int32(20)\n        labels = int32(20)\n        methods = ['max', 'max', 'max', 'max', 'max', 'max', 'max', 'max',...\n      pool_idx = int32(50874)\n      proba = float64(50936)\n      train_idx = int32(62)\n    5:NXgroup\n      @creation_time = '2021-07-07 11:18:47.648594'\n      new_labels:NXgroup\n        idx = int32(20)\n        labels = int32(20)\n        methods = ['max', 'max', 'max', 'max', 'max', 'max', 'max', 'max',...\n      pool_idx = int32(50854)\n      proba = float64(50936)\n      train_idx = int32(82)\n    6:NXgroup\n      @creation_time = '2021-07-07 11:18:47.723498'\n      new_labels:NXgroup\n        idx = int32(20)\n        labels = int32(20)\n        methods = ['max', 'max', 'max', 'max', 'max', 'max', 'max', 'max',...\n      pool_idx = int32(50834)\n      proba = float64(50936)\n      train_idx = int32(102)\n    7:NXgroup\n      @creation_time = '2021-07-07 11:18:47.795444'\n      new_labels:NXgroup\n        idx = int32(20)\n        labels = int32(20)\n        methods = ['max', 'max', 'max', 'max', 'max', 'max', 'max', 'max',...\n      pool_idx = int32(50814)\n      proba = float64(50936)\n      train_idx = int32(122)\n    8:NXgroup\n      @creation_time = '2021-07-07 11:18:47.865375'\n      new_labels:NXgroup\n        idx = int32(20)\n        labels = int32(20)\n        methods = ['max', 'max', 'max', 'max', 'max', 'max', 'max', 'max',...\n      pool_idx = int32(50794)\n      proba = float64(50936)\n      train_idx = int32(142)\n    9:NXgroup\n      @creation_time = '2021-07-07 11:18:47.940298'\n      new_labels:NXgroup\n        idx = int32(20)\n        labels = int32(20)\n        methods = ['max', 'max', 'max', 'max', 'max', 'max', 'max', 'max',...\n      pool_idx = int32(50774)\n      proba = float64(50936)\n      train_idx = int32(162)\n    10:NXgroup\n      @creation_time = '2021-07-07 11:18:48.013741'\n      new_labels:NXgroup\n        idx = int32(20)\n        labels = int32(20)\n        methods = ['max', 'max', 'max', 'max', 'max', 'max', 'max', 'max',...\n      pool_idx = int32(50754)\n      proba = float64(50936)\n      train_idx = int32(182)\n    11:NXgroup\n      @creation_time = '2021-07-07 11:18:48.087666'\n      new_labels:NXgroup\n        idx = int32(20)\n        labels = int32(20)\n        methods = ['max', 'max', 'max', 'max', 'max', 'max', 'max', 'max',...\n      pool_idx = int32(50734)\n      proba = float64(50936)\n      train_idx = int32(202)\n    12:NXgroup\n      @creation_time = '2021-07-07 11:18:48.159591'\n      new_labels:NXgroup\n        idx = int32(20)\n        labels = int32(20)\n        methods = ['max', 'max', 'max', 'max', 'max', 'max', 'max', 'max',...\n      pool_idx = int32(50714)\n      proba = float64(50936)\n      train_idx = int32(222)\n    13:NXgroup\n      @creation_time = '2021-07-07 11:18:48.228521'\n      new_labels:NXgroup\n        idx = int32(20)\n        labels = int32(20)\n        methods = ['max', 'max', 'max', 'max', 'max', 'max', 'max', 'max',...\n      pool_idx = int32(50694)\n      proba = float64(50936)\n      train_idx = int32(242)\n    14:NXgroup\n      @creation_time = '2021-07-07 11:18:48.301446'\n      new_labels:NXgroup\n        idx = int32(20)\n        labels = int32(20)\n        methods = ['max', 'max', 'max', 'max', 'max', 'max', 'max', 'max',...\n      pool_idx = int32(50674)\n      proba = float64(50936)\n      train_idx = int32(262)\n    15:NXgroup\n      @creation_time = '2021-07-07 11:18:48.372374'\n      new_labels:NXgroup\n        idx = int32(20)\n        labels = int32(20)\n        methods = ['max', 'max', 'max', 'max', 'max', 'max', 'max', 'max',...\n      pool_idx = int32(50654)\n      proba = float64(50936)\n      train_idx = int32(282)\n    16:NXgroup\n      @creation_time = '2021-07-07 11:18:48.446317'\n      new_labels:NXgroup\n        idx = int32(20)\n        labels = int32(20)\n        methods = ['max', 'max', 'max', 'max', 'max', 'max', 'max', 'max',...\n      pool_idx = int32(50634)\n      proba = float64(50936)\n      train_idx = int32(302)\n    17:NXgroup\n      @creation_time = '2021-07-07 11:18:48.519243'\n      new_labels:NXgroup\n        idx = int32(20)\n        labels = int32(20)\n        methods = ['max', 'max', 'max', 'max', 'max', 'max', 'max', 'max',...\n      pool_idx = int32(50614)\n      proba = float64(50936)\n      train_idx = int32(322)\n    18:NXgroup\n      @creation_time = '2021-07-07 11:18:48.597145'\n      new_labels:NXgroup\n        idx = int32(20)\n        labels = int32(20)\n        methods = ['max', 'max', 'max', 'max', 'max', 'max', 'max', 'max',...\n      pool_idx = int32(50594)\n      proba = float64(50936)\n      train_idx = int32(342)\n    19:NXgroup\n      @creation_time = '2021-07-07 11:18:48.676063'\n      new_labels:NXgroup\n        idx = int32(17)\n        labels = int32(17)\n        methods = ['max', 'max', 'max', 'max', 'max', 'max', 'max', 'max',...\n      pool_idx = int32(50574)\n      proba = float64(50936)\n      train_idx = int32(362)\n"
     ]
    }
   ],
   "source": [
    "fn = nx.nxload('../output/NB_extract_classified_papers.h5')\n",
    "print(fn.tree)"
   ]
  },
  {
   "cell_type": "code",
   "execution_count": 7,
   "metadata": {},
   "outputs": [
    {
     "output_type": "execute_result",
     "data": {
      "text/plain": [
       "array([16392,  4277, 26835, ..., 50060, 35591, 16513])"
      ]
     },
     "metadata": {},
     "execution_count": 7
    }
   ],
   "source": [
    "f.get('results/19/train_idx')[:]"
   ]
  },
  {
   "cell_type": "code",
   "execution_count": 8,
   "metadata": {},
   "outputs": [],
   "source": [
    "data = f.get('results/19/train_idx')[:]"
   ]
  },
  {
   "cell_type": "code",
   "execution_count": 9,
   "metadata": {},
   "outputs": [],
   "source": [
    "np.savetxt(\"../output/train_idx.txt\", data, fmt='%-10i')"
   ]
  },
  {
   "cell_type": "code",
   "execution_count": null,
   "metadata": {},
   "outputs": [],
   "source": []
  }
 ]
}
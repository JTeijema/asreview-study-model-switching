{
 "metadata": {
  "language_info": {
   "codemirror_mode": {
    "name": "ipython",
    "version": 3
   },
   "file_extension": ".py",
   "mimetype": "text/x-python",
   "name": "python",
   "nbconvert_exporter": "python",
   "pygments_lexer": "ipython3",
   "version": "3.9.5"
  },
  "orig_nbformat": 2,
  "kernelspec": {
   "name": "python3",
   "display_name": "Python 3.9.5 64-bit"
  },
  "metadata": {
   "interpreter": {
    "hash": "ac59ebe37160ed0dfa835113d9b8498d9f09ceb179beaac4002f036b9467c963"
   }
  },
  "interpreter": {
   "hash": "ab5013c0544224344857d6199cec860f4bf2eb18449276cf2b80fc8adb296486"
  }
 },
 "nbformat": 4,
 "nbformat_minor": 2,
 "cells": [
  {
   "cell_type": "code",
   "execution_count": 8,
   "metadata": {},
   "outputs": [],
   "source": [
    "import numpy as np\n",
    "import scipy"
   ]
  },
  {
   "cell_type": "code",
   "execution_count": 9,
   "metadata": {},
   "outputs": [],
   "source": [
    "iteration = 10"
   ]
  },
  {
   "cell_type": "code",
   "execution_count": 10,
   "metadata": {},
   "outputs": [
    {
     "output_type": "execute_result",
     "data": {
      "text/plain": [
       "['X', 'y']"
      ]
     },
     "metadata": {},
     "execution_count": 10
    }
   ],
   "source": [
    "data = np.load(\"..\\\\output\\\\data-{0}.npz\".format(iteration), allow_pickle=True)\n",
    "sorted(data.files)"
   ]
  },
  {
   "cell_type": "code",
   "execution_count": 11,
   "metadata": {},
   "outputs": [],
   "source": [
    "X = data['X']#[()].toarray()\n",
    "y = data['y']"
   ]
  },
  {
   "cell_type": "code",
   "execution_count": 12,
   "metadata": {},
   "outputs": [],
   "source": [
    "data.close()"
   ]
  },
  {
   "cell_type": "code",
   "execution_count": 13,
   "metadata": {},
   "outputs": [
    {
     "output_type": "execute_result",
     "data": {
      "text/plain": [
       "array([[ 1.504083  ,  3.0483487 , -0.51728064, ..., -0.8792028 ,\n",
       "         0.5448596 ,  1.3588232 ],\n",
       "       [ 1.504083  ,  3.0483487 , -0.51728064, ..., -0.8792028 ,\n",
       "         0.5448596 ,  1.3588232 ],\n",
       "       [-2.5594332 ,  4.2552614 ,  0.8915848 , ..., -0.1132608 ,\n",
       "         1.0517516 ,  0.78416926],\n",
       "       ...,\n",
       "       [ 2.058328  ,  2.281279  , -2.297352  , ..., -1.1615641 ,\n",
       "         1.6408132 ,  0.60712683],\n",
       "       [ 1.504083  ,  3.0483487 , -0.51728064, ..., -0.8792028 ,\n",
       "         0.5448596 ,  1.3588232 ],\n",
       "       [ 2.2577753 ,  1.5361824 , -1.7144392 , ...,  0.5461143 ,\n",
       "         0.7582358 ,  1.1438899 ]], dtype=float32)"
      ]
     },
     "metadata": {},
     "execution_count": 13
    }
   ],
   "source": [
    "X"
   ]
  },
  {
   "cell_type": "code",
   "execution_count": 14,
   "metadata": {},
   "outputs": [
    {
     "output_type": "execute_result",
     "data": {
      "text/plain": [
       "array([1, 1, 0, 1, 1, 1, 0, 1, 1, 1, 1, 1, 1, 0, 1, 1, 1, 1, 1, 0, 0, 1,\n",
       "       1, 1, 0, 1, 1, 0, 0, 1, 0, 1, 1, 1, 0, 0, 1, 1, 0, 0, 1, 1, 1, 0,\n",
       "       1, 1, 0, 0, 1, 0, 1, 0], dtype=int64)"
      ]
     },
     "metadata": {},
     "execution_count": 14
    }
   ],
   "source": [
    "y"
   ]
  }
 ]
}
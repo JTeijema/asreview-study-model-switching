{
 "metadata": {
  "language_info": {
   "codemirror_mode": {
    "name": "ipython",
    "version": 3
   },
   "file_extension": ".py",
   "mimetype": "text/x-python",
   "name": "python",
   "nbconvert_exporter": "python",
   "pygments_lexer": "ipython3",
   "version": "3.9.5"
  },
  "orig_nbformat": 4,
  "kernelspec": {
   "name": "python3",
   "display_name": "Python 3.9.5 64-bit"
  },
  "interpreter": {
   "hash": "ab5013c0544224344857d6199cec860f4bf2eb18449276cf2b80fc8adb296486"
  }
 },
 "nbformat": 4,
 "nbformat_minor": 2,
 "cells": [
  {
   "cell_type": "code",
   "execution_count": null,
   "metadata": {},
   "outputs": [],
   "source": [
    "from asreviewcontrib.visualization.plot import Plot"
   ]
  },
  {
   "cell_type": "code",
   "execution_count": null,
   "metadata": {},
   "outputs": [],
   "source": [
    "with Plot.from_paths(['..\\\\output\\\\NB.h5']) as plot:\n",
    "  inc_plot = plot.new(\"inclusion\", result_format=\"number\")\n",
    "  inc_plot.set_grid()\n",
    "  inc_plot.set_xlim(0, 4000)\n",
    "  inc_plot.set_legend()\n",
    "  inc_plot.add_wss(\"NB.h5\", value=100, add_text=False)\n",
    "  inc_plot.add_random(add_text=False)\n",
    "  inc_plot.show()\n",
    "  inc_plot.save(\"..\\\\output\\\\NB_plot.png\")\n",
    "\n",
    "with Plot.from_paths(['..\\\\output\\\\NB_extract_classified_papers.h5']) as plot:\n",
    "  inc_plot = plot.new(\"inclusion\", result_format=\"number\")\n",
    "  inc_plot.set_grid()\n",
    "  inc_plot.set_xlim(0, 4000)\n",
    "  #inc_plot.set_legend()\n",
    "  #inc_plot.add_wss(\"NB.h5\", value=100, add_text=False)\n",
    "  inc_plot.add_random(add_text=False)\n",
    "  inc_plot.show()\n",
    "  inc_plot.save(\"..\\\\output\\\\NB_extract_classified_papers_plot.png\")\n",
    "\n",
    "with Plot.from_paths([\"..\\\\output\\\\nb_379.h5\", \"..\\\\output\\\\svm_379.h5\", \"..\\\\output\\\\nn_379.h5\", \"..\\\\output\\\\cnn_379.h5\", \"..\\\\output\\\\lstm_379.h5\"]) as plot:\n",
    "  inc_plot = plot.new(\"inclusion\", result_format=\"number\")\n",
    "  inc_plot.set_grid()\n",
    "  inc_plot.set_xlim(0, 4000)\n",
    "  inc_plot.set_legend()\n",
    "  inc_plot.add_random(add_text=False)\n",
    "  #inc_plot.add_wss('nb_379.h5', value=100, add_text=False)\n",
    "  inc_plot.show()\n",
    "  inc_plot.save(\"..\\\\output\\\\randomprior_plot.png\")\n",
    "\n",
    "with Plot.from_paths([\"..\\\\output\\\\prior_nb_379.h5\", \"..\\\\output\\\\prior_nn_379.h5\", \"..\\\\output\\\\prior_cnn_379.h5\", \"..\\\\output\\\\prior_svm_379.h5\", \"..\\\\output\\\\prior_lstm_379.h5\"]) as plot: \n",
    "  inc_plot = plot.new(\"inclusion\", result_format=\"number\")\n",
    "  inc_plot.set_grid()\n",
    "  inc_plot.set_xlim(0, 4000)\n",
    "  inc_plot.set_legend()\n",
    "  inc_plot.add_random(add_text=False)\n",
    "  inc_plot.add_wss('prior_nb_379.h5', value=100, add_text=False)\n",
    "  inc_plot.show()\n",
    "  inc_plot.save(\"..\\\\output\\\\prior_plot.png\")\n",
    "\n",
    "with Plot.from_paths([\"..\\\\output\\\\wide_prior_cnn_379.h5\", \"..\\\\output\\\\prior_cnn_379.h5\", \"..\\\\output\\\\prior_nb_379.h5\"]) as plot:\n",
    "  inc_plot = plot.new(\"inclusion\", result_format=\"number\")\n",
    "  inc_plot.set_grid()\n",
    "  inc_plot.set_xlim(0, 4000)\n",
    "  inc_plot.set_legend()\n",
    "  inc_plot.add_random(add_text=False)\n",
    "  inc_plot.add_wss('wide_prior_cnn_379.h5', value=90, add_text=False)\n",
    "  inc_plot.add_wss('prior_nb_379.h5', value=90, add_text=False)\n",
    "  inc_plot.show()\n",
    "  inc_plot.save(\"..\\\\output\\\\wide_prior_plot.png\")"
   ]
  },
  {
   "cell_type": "code",
   "execution_count": null,
   "metadata": {},
   "outputs": [],
   "source": []
  }
 ]
}